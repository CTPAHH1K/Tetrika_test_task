{
 "cells": [
  {
   "cell_type": "code",
   "execution_count": 1,
   "metadata": {},
   "outputs": [],
   "source": [
    "import os\n",
    "import pandas as pd\n",
    "import numpy as np\n",
    "import datetime"
   ]
  },
  {
   "cell_type": "code",
   "execution_count": 2,
   "metadata": {},
   "outputs": [],
   "source": [
    "# Изменить на свой путь к данным.\n",
    "PATH_TO_DATA = ''"
   ]
  },
  {
   "cell_type": "markdown",
   "metadata": {},
   "source": [
    "# Задача с именами\n",
    "\n",
    "Есть файл с именами (https://yadi.sk/i/97rbNP2ucGoAKw). Нужно выполнить следующие действия и посчитать результат:\n",
    "\n",
    "### 1) Отсортировать все имена в лексикографическом порядке  "
   ]
  },
  {
   "cell_type": "code",
   "execution_count": 3,
   "metadata": {},
   "outputs": [],
   "source": [
    "# Считываем файл с диска, разделяем на отдельные слова, приводим все к нижнему регистру для универсальности\n",
    "# (на случай если бы слова содержали буквы обоих регистров) и сохраняем в списке.\n",
    "with open(os.path.join(PATH_TO_DATA,'names.txt'), mode='r') as f:\n",
    "    names = f.readline().lower().split(sep = ',')\n",
    "# Удаляем двойные кавычки окружающие слова.\n",
    "for i in range(len(names)):\n",
    "    names[i] = names[i].strip('\\\"')\n",
    "# Сортируем список.\n",
    "names.sort()"
   ]
  },
  {
   "cell_type": "markdown",
   "metadata": {},
   "source": [
    "### 2) Посчитать для каждого имени алфавитную сумму – сумму порядковых номеров букв (MAY: 13 + 1 + 25 = 39)  \n",
    "### 3) Умножить алфавитную сумму каждого имени на порядковый номер имени в отсортированном списке (индексация начинается с 1).   Например, если MAY находится на 63 месте в списке, то результат для него будет 63 * 39 = 2457."
   ]
  },
  {
   "cell_type": "code",
   "execution_count": 4,
   "metadata": {},
   "outputs": [],
   "source": [
    "nums = [0]*(len(names))\n",
    "for i in range(len(names)):\n",
    "    s = 0\n",
    "    for j in names[i]:\n",
    "        s += ord(j) - 96\n",
    "    nums[i] = (i+1)*s"
   ]
  },
  {
   "cell_type": "markdown",
   "metadata": {},
   "source": [
    "### 4) Просуммировать произведения из п. 3 для всех имен из файла и получить число. Это число и будет ответом."
   ]
  },
  {
   "cell_type": "code",
   "execution_count": 5,
   "metadata": {},
   "outputs": [
    {
     "name": "stdout",
     "output_type": "stream",
     "text": [
      "871853874\n"
     ]
    }
   ],
   "source": [
    "print (sum(nums))"
   ]
  },
  {
   "cell_type": "markdown",
   "metadata": {},
   "source": [
    "# Задача с ip адресами\n",
    "\n",
    "Есть файл со строками (https://yadi.sk/d/u6AOqGqKozTrpw) вида :\n",
    "\n",
    "< host>\\t< ip>\\t< page>\\n\n",
    "\n",
    "Нужно вывести 5 айпи-адресов, которые встречаются чаще других."
   ]
  },
  {
   "cell_type": "code",
   "execution_count": 6,
   "metadata": {},
   "outputs": [
    {
     "name": "stdout",
     "output_type": "stream",
     "text": [
      "154.157.157.156 82.146.232.163 194.78.107.33 226.247.119.128 21.143.243.182\n"
     ]
    }
   ],
   "source": [
    "# В силу привычки и удобста считал файл в датафрейм\n",
    "hits = pd.read_csv(os.path.join(PATH_TO_DATA,'hits.txt'), sep = '\\t', header = None)\n",
    "# Сделал словарь где ключ - IP, значение - число вхождений этого IP в список.\n",
    "ip_dict = {}\n",
    "for i in hits[1]:\n",
    "    if i not in ip_dict:\n",
    "        ip_dict[i] = 1\n",
    "    else:\n",
    "        ip_dict[i] += 1\n",
    "# Вывод пяти топовых IP\n",
    "print (*sorted(ip_dict, key=ip_dict.get, reverse=True)[0:5])"
   ]
  },
  {
   "cell_type": "code",
   "execution_count": 7,
   "metadata": {},
   "outputs": [],
   "source": [
    "# Для проверки можно раскоментировать эти строки и посмотреть на число вхождений.\n",
    "#for w in sorted(ip_dict, key=ip_dict.get, reverse=True):\n",
    "#    print ('IP адресс',w,'встретился', ip_dict[w],'раз(а)')"
   ]
  },
  {
   "cell_type": "markdown",
   "metadata": {},
   "source": [
    "# Задача с качеством уроков\n",
    "\n",
    "В нашей школе ученики и репетиторы занимаются в специальном онлайн-классе, в котором они могут общаться друг с другом, рисовать на доске, переписываться в чате, обмениваться файлами и решать различные задачки. Информацию о каждом уроке мы старательно записываем в базу данных в таблицу lessons. На каждом таком уроке присутствует один репетитор и один ученик (существуют еще тренировочные уроки, у которых единственный участник – репетитор, но для нашей задачи они неинтересны). В конце урока, когда учитель и ученик покидают класс, они могут оценить (а могут и пропустить этот этап) качество пройденного урока по пятибальной шкале. Все оценки мы записываем в таблицу quality, чтобы мы могли узнавать, хорошо ли работает наш сайт.\n",
    "\n",
    "В этой задаче тебе нужно будет в каждый день найти репетитора, уроки которого получили самую низкую оценку качества, и вывести эту оценку.\n",
    "\n",
    "В архиве (https://yadi.sk/d/ESH_lU5sZRdKhA) содержится четыре файла с выгрузкой строк из базы.\n",
    "\n",
    "lessons.txt содержит следующие поля:\n",
    "id – уникальный идентификатор урока.\n",
    "event_id – идентификатор, связывающий уроки с файлом participants. У нескольких уроков может быть один и тот же event_id. Подробнее про это будет позже\n",
    "subject – предмет урока, просто строка\n",
    "scheduled_time – время начала урока, в формате ГГГГ-ММ-ДД чч:мм:сс (иногда есть еще миллисекунды). Время указано в UTC.\n",
    "\n",
    "quality.txt содержит следующие поля:\n",
    "lesson_id – идентификатор урока, указывает на запись в таблице lessons.txt. У нескольких строчек из этого файла может быть один и тот же lesson_id, потому что оценок за урок может быть несколько (например, оба участника, ученик и репетитор могут оценить качество урока)\n",
    "tech_quality – собственно оценка качества урока. Это число от 1 до 5. Иногда его может не быть, если пользователь не выставил оценку.\n",
    "\n",
    "users.txt хранит информацию о пользователях и содержит всего два поля:\n",
    "id – уникальный идентификатор пользователя\n",
    "role – указывает является ли пользователь учеником (pupil) или учителем (tutor)\n",
    "\n",
    "Файл participants.txt позволяет связать урок с его участниками. Он содержит следующие поля:\n",
    "user_id – идентификатор пользователя (указывает на запись в файле users.txt)\n",
    "event_id – идентификатор, связывающий урок с участником. То есть, чтобы понять, какие пользователи были на уроке Х, нужно найти в файле participants.txt строки, у которых event_id совпадает с event_id урока Х.\n",
    "\n",
    "Для решения задачки нужно сделать следующее:\n",
    "1. Найти все уроки по физике (subject=phys).\n",
    "2. В каждый день (начало и конец дня считается по московскому времени, то есть UTC+3:00) для каждого репетитора посчитать среднюю арифметическую оценку за его уроки (учитывать только уроки из п. 1). То есть, если учитель проводил в этот день три урока по физике, один из них он оценил на 3, а ученик оценил его на 4, второму уроку оценку поставил только ученик, и эта оценка 5, а третий урок вообще никто не оценил, то средняя арифметическая оценка учителя за уроки = (3 + 4 + 5) / 3 = 4.\n",
    "3. Найти учителя, который в этот день имеет самую низкую среднюю арифметическую оценку за уроки (среди всех учителей, проводивших уроки по физике в этот день).\n",
    "4. Вывести его в формате \"<день> <id учителя> <средняя арифметическая оценка>\". Оценку можно округлить с точностью до двух знаков после запятой. То есть как-то так:  \n",
    "2020-01-11 73c9af08-8581-430c-a590-9888ab36deb3 3.67\n",
    "2020-01-12 909c2c8e-c054-4e9f-a51a-50bf5660f364 3.25\n",
    "...\n",
    "4. Учитывать нужно только тех учителей, за уроки по физике которых в этот день стоит хотя бы одна оценка. Если у нескольких учителей одна и та же самая оценка, можно вывести любого."
   ]
  },
  {
   "cell_type": "markdown",
   "metadata": {},
   "source": [
    "## Загрузим данные из результатов запросов в pandas dataframe"
   ]
  },
  {
   "cell_type": "code",
   "execution_count": 8,
   "metadata": {},
   "outputs": [],
   "source": [
    "PATH_TO_DATA = 'tech_quality'"
   ]
  },
  {
   "cell_type": "code",
   "execution_count": 9,
   "metadata": {},
   "outputs": [],
   "source": [
    "# Загружаем\n",
    "lessons = pd.read_csv(os.path.join(PATH_TO_DATA,'lessons.txt'), '|', skiprows = 2, nrows = 378, \n",
    "                      names = ['lesson_id','event_id','subject','scheduled_time'], parse_dates = [3])\n",
    "# Подчищаем лишние пробелы\n",
    "lessons['lesson_id'] = lessons['lesson_id'].apply(str.strip)\n",
    "lessons['subject'] = lessons['subject'].apply(str.strip)\n",
    "# Сдвигаем время на 3 часа для попадания в UTC+03:00\n",
    "lessons.scheduled_time = lessons.scheduled_time + pd.offsets.Hour(3)\n",
    "# Получаем дату из времени\n",
    "lessons['Date'] = lessons.scheduled_time.apply(lambda ts: datetime.date(year = ts.year, month = ts.month, day = ts.day))\n",
    "lessons.drop(columns = 'scheduled_time', inplace = True)"
   ]
  },
  {
   "cell_type": "code",
   "execution_count": 10,
   "metadata": {},
   "outputs": [],
   "source": [
    "quality = pd.read_csv(os.path.join(PATH_TO_DATA,'quality.txt'), '|', skiprows = 2, nrows = 365, \n",
    "                      names = ['lesson_id','tech_quality'])\n",
    "quality['lesson_id'] = quality['lesson_id'].apply(str.strip)\n",
    "# Преобразуем данные в колонке оценки в числовые, с заменой пропусков на NaN\n",
    "quality['tech_quality'] = pd.to_numeric(quality['tech_quality'], errors='coerce')\n",
    "# Удалим записи без оценок\n",
    "quality.dropna(inplace=True)"
   ]
  },
  {
   "cell_type": "code",
   "execution_count": 11,
   "metadata": {},
   "outputs": [],
   "source": [
    "participants = pd.read_csv(os.path.join(PATH_TO_DATA,'participants.txt'), '|', skiprows = 2, nrows = 743, \n",
    "                      names = ['event_id','user_id'])\n",
    "participants['user_id'] = participants['user_id'].apply(str.strip)"
   ]
  },
  {
   "cell_type": "code",
   "execution_count": 12,
   "metadata": {},
   "outputs": [],
   "source": [
    "users = pd.read_csv(os.path.join(PATH_TO_DATA,'users.txt'), '|', skiprows = 2, nrows = 743, \n",
    "                      names = ['user_id','role'])\n",
    "users['user_id'] = users['user_id'].apply(str.strip)\n",
    "users['role'] = users['role'].apply(str.strip)"
   ]
  },
  {
   "cell_type": "markdown",
   "metadata": {},
   "source": [
    "## Сджоиним данные таким образом что бы решить задачу"
   ]
  },
  {
   "cell_type": "code",
   "execution_count": 13,
   "metadata": {},
   "outputs": [],
   "source": [
    "# Добавим оценки в таблицу с уроками\n",
    "lessons_quality = pd.DataFrame.merge(lessons, quality, how='left', on = 'lesson_id')"
   ]
  },
  {
   "cell_type": "code",
   "execution_count": 14,
   "metadata": {},
   "outputs": [],
   "source": [
    "# Добавим роли участников в таблицу участников\n",
    "participants_users = pd.DataFrame.merge(participants, users, how='left', on = 'user_id').drop_duplicates()"
   ]
  },
  {
   "cell_type": "code",
   "execution_count": 15,
   "metadata": {},
   "outputs": [],
   "source": [
    "# Получим список учителей связанных с их ивентами\n",
    "tutors_list = participants_users[participants_users['role']=='tutor'].drop(columns='role').copy()\n",
    "tutors_list.columns = ['event_id', 'tutor_id']"
   ]
  },
  {
   "cell_type": "code",
   "execution_count": 16,
   "metadata": {},
   "outputs": [],
   "source": [
    "# Получим итоговую таблицу достаточную для решения задачи\n",
    "lessons_quality_tutors = pd.DataFrame.merge(lessons_quality, tutors_list, how='left', on = 'event_id')\n",
    "lessons_quality_tutors = lessons_quality_tutors.sort_values(by=[\"Date\",\"lesson_id\"])"
   ]
  },
  {
   "cell_type": "code",
   "execution_count": 17,
   "metadata": {},
   "outputs": [
    {
     "data": {
      "text/html": [
       "<div>\n",
       "<style scoped>\n",
       "    .dataframe tbody tr th:only-of-type {\n",
       "        vertical-align: middle;\n",
       "    }\n",
       "\n",
       "    .dataframe tbody tr th {\n",
       "        vertical-align: top;\n",
       "    }\n",
       "\n",
       "    .dataframe thead th {\n",
       "        text-align: right;\n",
       "    }\n",
       "</style>\n",
       "<table border=\"1\" class=\"dataframe\">\n",
       "  <thead>\n",
       "    <tr style=\"text-align: right;\">\n",
       "      <th></th>\n",
       "      <th>lesson_id</th>\n",
       "      <th>event_id</th>\n",
       "      <th>subject</th>\n",
       "      <th>Date</th>\n",
       "      <th>tech_quality</th>\n",
       "      <th>tutor_id</th>\n",
       "    </tr>\n",
       "  </thead>\n",
       "  <tbody>\n",
       "    <tr>\n",
       "      <th>71</th>\n",
       "      <td>05a93eb6-a458-44ef-afa6-3a0097319908</td>\n",
       "      <td>48293</td>\n",
       "      <td>phys</td>\n",
       "      <td>2020-01-11</td>\n",
       "      <td>5.0</td>\n",
       "      <td>43efce48-94b2-4412-857f-223d45969008</td>\n",
       "    </tr>\n",
       "    <tr>\n",
       "      <th>30</th>\n",
       "      <td>0e30fdbd-2af7-40c7-8f38-336c9d8512f3</td>\n",
       "      <td>38111</td>\n",
       "      <td>phys</td>\n",
       "      <td>2020-01-11</td>\n",
       "      <td>NaN</td>\n",
       "      <td>4df2832a-1d63-4453-9659-43993fc35996</td>\n",
       "    </tr>\n",
       "    <tr>\n",
       "      <th>78</th>\n",
       "      <td>0fffa174-fd7c-4266-ba9a-0ad5702853b3</td>\n",
       "      <td>51309</td>\n",
       "      <td>bio</td>\n",
       "      <td>2020-01-11</td>\n",
       "      <td>4.0</td>\n",
       "      <td>7ac76f84-875d-46fb-957a-ba0e390fe539</td>\n",
       "    </tr>\n",
       "    <tr>\n",
       "      <th>59</th>\n",
       "      <td>13612a4d-ab26-4c3a-ad28-1b3df22775db</td>\n",
       "      <td>53065</td>\n",
       "      <td>hist</td>\n",
       "      <td>2020-01-11</td>\n",
       "      <td>NaN</td>\n",
       "      <td>f72b84b5-a5a0-4655-8c8b-c84a22735a27</td>\n",
       "    </tr>\n",
       "    <tr>\n",
       "      <th>63</th>\n",
       "      <td>1721ee8e-5c4d-4bfc-82e2-42a6a13938cc</td>\n",
       "      <td>51377</td>\n",
       "      <td>it</td>\n",
       "      <td>2020-01-11</td>\n",
       "      <td>NaN</td>\n",
       "      <td>dbfbb7f2-adc9-45e4-bae7-6e0b42b0ecc7</td>\n",
       "    </tr>\n",
       "  </tbody>\n",
       "</table>\n",
       "</div>"
      ],
      "text/plain": [
       "                               lesson_id  event_id subject        Date  \\\n",
       "71  05a93eb6-a458-44ef-afa6-3a0097319908     48293    phys  2020-01-11   \n",
       "30  0e30fdbd-2af7-40c7-8f38-336c9d8512f3     38111    phys  2020-01-11   \n",
       "78  0fffa174-fd7c-4266-ba9a-0ad5702853b3     51309     bio  2020-01-11   \n",
       "59  13612a4d-ab26-4c3a-ad28-1b3df22775db     53065    hist  2020-01-11   \n",
       "63  1721ee8e-5c4d-4bfc-82e2-42a6a13938cc     51377      it  2020-01-11   \n",
       "\n",
       "    tech_quality                              tutor_id  \n",
       "71           5.0  43efce48-94b2-4412-857f-223d45969008  \n",
       "30           NaN  4df2832a-1d63-4453-9659-43993fc35996  \n",
       "78           4.0  7ac76f84-875d-46fb-957a-ba0e390fe539  \n",
       "59           NaN  f72b84b5-a5a0-4655-8c8b-c84a22735a27  \n",
       "63           NaN  dbfbb7f2-adc9-45e4-bae7-6e0b42b0ecc7  "
      ]
     },
     "execution_count": 17,
     "metadata": {},
     "output_type": "execute_result"
    }
   ],
   "source": [
    "lessons_quality_tutors.head()"
   ]
  },
  {
   "cell_type": "markdown",
   "metadata": {},
   "source": [
    "## Оставим только уроки физики"
   ]
  },
  {
   "cell_type": "code",
   "execution_count": 18,
   "metadata": {},
   "outputs": [],
   "source": [
    "phys = lessons_quality_tutors[lessons_quality_tutors['subject']=='phys'].dropna().drop(columns='event_id').copy()"
   ]
  },
  {
   "cell_type": "markdown",
   "metadata": {},
   "source": [
    "## Получим средние отметки учителей по дням"
   ]
  },
  {
   "cell_type": "code",
   "execution_count": 19,
   "metadata": {},
   "outputs": [],
   "source": [
    "means = phys.groupby(['Date', 'tutor_id'], as_index=False).mean().sort_values(by=[\"Date\",\"tech_quality\"])"
   ]
  },
  {
   "cell_type": "markdown",
   "metadata": {},
   "source": [
    "## Возьмем \"худших\" учителей дня"
   ]
  },
  {
   "cell_type": "code",
   "execution_count": 20,
   "metadata": {},
   "outputs": [],
   "source": [
    "mins = means.groupby(['Date'], as_index=False).first()"
   ]
  },
  {
   "cell_type": "code",
   "execution_count": 21,
   "metadata": {},
   "outputs": [],
   "source": [
    "# Округлим отметки до 2х знаков после запятой\n",
    "mins.tech_quality = mins.tech_quality.apply(lambda x: np.round(x, 2))"
   ]
  },
  {
   "cell_type": "code",
   "execution_count": 22,
   "metadata": {},
   "outputs": [
    {
     "data": {
      "text/html": [
       "<div>\n",
       "<style scoped>\n",
       "    .dataframe tbody tr th:only-of-type {\n",
       "        vertical-align: middle;\n",
       "    }\n",
       "\n",
       "    .dataframe tbody tr th {\n",
       "        vertical-align: top;\n",
       "    }\n",
       "\n",
       "    .dataframe thead th {\n",
       "        text-align: right;\n",
       "    }\n",
       "</style>\n",
       "<table border=\"1\" class=\"dataframe\">\n",
       "  <thead>\n",
       "    <tr style=\"text-align: right;\">\n",
       "      <th></th>\n",
       "      <th>Date</th>\n",
       "      <th>tutor_id</th>\n",
       "      <th>tech_quality</th>\n",
       "    </tr>\n",
       "  </thead>\n",
       "  <tbody>\n",
       "    <tr>\n",
       "      <th>0</th>\n",
       "      <td>2020-01-11</td>\n",
       "      <td>8fe03f08-8581-430c-a590-9888ab36deb3</td>\n",
       "      <td>4.43</td>\n",
       "    </tr>\n",
       "    <tr>\n",
       "      <th>1</th>\n",
       "      <td>2020-01-12</td>\n",
       "      <td>696c838e-c054-4e9f-a51a-50bf5660f364</td>\n",
       "      <td>4.89</td>\n",
       "    </tr>\n",
       "    <tr>\n",
       "      <th>2</th>\n",
       "      <td>2020-01-13</td>\n",
       "      <td>2fa2ab62-f1b0-4036-872f-bcfd9a8686ff</td>\n",
       "      <td>5.00</td>\n",
       "    </tr>\n",
       "    <tr>\n",
       "      <th>3</th>\n",
       "      <td>2020-01-14</td>\n",
       "      <td>c6718d0e-976c-4d6c-b0e0-32c770776567</td>\n",
       "      <td>4.00</td>\n",
       "    </tr>\n",
       "    <tr>\n",
       "      <th>4</th>\n",
       "      <td>2020-01-15</td>\n",
       "      <td>603b8641-c6f6-4d89-ac89-88e50d45aa0d</td>\n",
       "      <td>5.00</td>\n",
       "    </tr>\n",
       "    <tr>\n",
       "      <th>5</th>\n",
       "      <td>2020-01-16</td>\n",
       "      <td>2fa2ab62-f1b0-4036-872f-bcfd9a8686ff</td>\n",
       "      <td>4.00</td>\n",
       "    </tr>\n",
       "    <tr>\n",
       "      <th>6</th>\n",
       "      <td>2020-01-17</td>\n",
       "      <td>696c838e-c054-4e9f-a51a-50bf5660f364</td>\n",
       "      <td>4.50</td>\n",
       "    </tr>\n",
       "    <tr>\n",
       "      <th>7</th>\n",
       "      <td>2020-01-18</td>\n",
       "      <td>43efce48-94b2-4412-857f-223d45969008</td>\n",
       "      <td>4.25</td>\n",
       "    </tr>\n",
       "    <tr>\n",
       "      <th>8</th>\n",
       "      <td>2020-01-19</td>\n",
       "      <td>be676776-8366-4c71-8a35-d58014806eb5</td>\n",
       "      <td>4.50</td>\n",
       "    </tr>\n",
       "    <tr>\n",
       "      <th>9</th>\n",
       "      <td>2020-01-20</td>\n",
       "      <td>30a19496-bdaf-461c-abbc-2709ae520201</td>\n",
       "      <td>4.50</td>\n",
       "    </tr>\n",
       "  </tbody>\n",
       "</table>\n",
       "</div>"
      ],
      "text/plain": [
       "         Date                              tutor_id  tech_quality\n",
       "0  2020-01-11  8fe03f08-8581-430c-a590-9888ab36deb3          4.43\n",
       "1  2020-01-12  696c838e-c054-4e9f-a51a-50bf5660f364          4.89\n",
       "2  2020-01-13  2fa2ab62-f1b0-4036-872f-bcfd9a8686ff          5.00\n",
       "3  2020-01-14  c6718d0e-976c-4d6c-b0e0-32c770776567          4.00\n",
       "4  2020-01-15  603b8641-c6f6-4d89-ac89-88e50d45aa0d          5.00\n",
       "5  2020-01-16  2fa2ab62-f1b0-4036-872f-bcfd9a8686ff          4.00\n",
       "6  2020-01-17  696c838e-c054-4e9f-a51a-50bf5660f364          4.50\n",
       "7  2020-01-18  43efce48-94b2-4412-857f-223d45969008          4.25\n",
       "8  2020-01-19  be676776-8366-4c71-8a35-d58014806eb5          4.50\n",
       "9  2020-01-20  30a19496-bdaf-461c-abbc-2709ae520201          4.50"
      ]
     },
     "execution_count": 22,
     "metadata": {},
     "output_type": "execute_result"
    }
   ],
   "source": [
    "mins"
   ]
  },
  {
   "cell_type": "code",
   "execution_count": 23,
   "metadata": {},
   "outputs": [
    {
     "name": "stdout",
     "output_type": "stream",
     "text": [
      "2020-01-11 8fe03f08-8581-430c-a590-9888ab36deb3 4.43\n",
      "2020-01-12 696c838e-c054-4e9f-a51a-50bf5660f364 4.89\n",
      "2020-01-13 2fa2ab62-f1b0-4036-872f-bcfd9a8686ff 5.0\n",
      "2020-01-14 c6718d0e-976c-4d6c-b0e0-32c770776567 4.0\n",
      "2020-01-15 603b8641-c6f6-4d89-ac89-88e50d45aa0d 5.0\n",
      "2020-01-16 2fa2ab62-f1b0-4036-872f-bcfd9a8686ff 4.0\n",
      "2020-01-17 696c838e-c054-4e9f-a51a-50bf5660f364 4.5\n",
      "2020-01-18 43efce48-94b2-4412-857f-223d45969008 4.25\n",
      "2020-01-19 be676776-8366-4c71-8a35-d58014806eb5 4.5\n",
      "2020-01-20 30a19496-bdaf-461c-abbc-2709ae520201 4.5\n"
     ]
    }
   ],
   "source": [
    "for i in range(len(mins)):\n",
    "    print(mins.iloc[i][0], mins.iloc[i][1], mins.iloc[i][2])"
   ]
  },
  {
   "cell_type": "code",
   "execution_count": null,
   "metadata": {},
   "outputs": [],
   "source": []
  }
 ],
 "metadata": {
  "kernelspec": {
   "display_name": "Python 3",
   "language": "python",
   "name": "python3"
  },
  "language_info": {
   "codemirror_mode": {
    "name": "ipython",
    "version": 3
   },
   "file_extension": ".py",
   "mimetype": "text/x-python",
   "name": "python",
   "nbconvert_exporter": "python",
   "pygments_lexer": "ipython3",
   "version": "3.7.3"
  }
 },
 "nbformat": 4,
 "nbformat_minor": 2
}
